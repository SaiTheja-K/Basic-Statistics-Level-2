{
 "cells": [
  {
   "cell_type": "markdown",
   "id": "71fc1c8f",
   "metadata": {},
   "source": [
    "## 1. The time required for servicing transmissions is normally distributed with   = 45 minutes and   = 8minutes. The service manager plans to have work begin on the transmission of a customer’s car 10 minutes after the car is dropped off  and  the customer is told that the car will be ready within 1 hour from drop-off. What is the probability that the service manager cannot  meet his commitment?\n",
    "\n",
    "## Ans- We have a normal distribution with   = 45 and   = 8.0. Let X  be the amount of time it takes to complete the repair on a customer's car. To finish in one hour you must have X ≤ 50 so the question is to find Pr(X > 50).\n",
    "## Pr(X > 50) = 1 - Pr(X ≤ 50).\n",
    "## Z = (X -  )/  = (X - 45)/8.0\n",
    "## Thus the question can be answered by using the normal table to find\n",
    "## Pr(X ≤ 50) = Pr(Z ≤ (50 - 45)/8.0) = Pr(Z ≤ 0.625)=73.4%\n",
    "## Probability that the service manager will not meet his demand will be = 100-73.4 = 26.6% or 0.2676\n",
    "\n",
    "## 2. The current age (in years) of 400 clerical employees at an insurance claims processing center is normally distributed with mean    = 38 and Standard deviation   = 6. For each statement below, please specify True/False. If false, briefly explain why.\n",
    "## A. More employees at the processing center are older than 44 than between 38 and 44.\n",
    "## B. A training program for employees under the age of 30 at the center would be expected to attract about 36 employees.\n",
    "\n",
    "## Ans - We have a normal distribution with   = 38 and   = 6. Let X be the number of employees. So according to question\n",
    "## a)Probabilty of employees greater than age of 44= Pr(X>44)\n",
    "## Pr(X > 44) = 1 - Pr(X ≤ 44).\n",
    "## Z = (X -  )/  = (X - 38)/6\n",
    "## Thus the question can be answered by using the normal table to find\n",
    "## Pr(X ≤ 44) = Pr(Z ≤ (44 - 38)/6) = Pr(Z ≤ 1)=84.1345%\n",
    "## Probabilty that the employee will be greater than age of 44 = 100-84.1345=15.86%\n",
    "##  So the probability of number of employees between 38-44 years of age = Pr(X<44)-0.5=84.1345-0.5= 34.1345%\n",
    "## Therefore the statement  that “More employees at the processing center are older than 44 than between 38 and 44” is TRUE.\n",
    "## b) Probabilty of employees less than age of 30 =  Pr(X<30).\n",
    "## Z = (X -  )/  = (30 - 38)/6\n",
    "## Thus the  question can be answered by using the normal table to find\n",
    "## Pr(X ≤ 30) = Pr(Z ≤ (30 - 38)/6) = Pr(Z ≤ -1.333)=9.12%\n",
    "## So the number of employees with probability 0.912 of them being under age 30 = 0.0912*400=36.48( or 36 employees).\n",
    "## Therefore the statement B of the question is also TRUE.\n",
    "\n",
    "## 3. If X1 ~ N(μ, σ^2) and X2 ~ N(μ, σ^2) are iid normal random variables, then what is the difference between  2 X1 and X1 + X2? Discuss both their distributions and parameters.\n",
    "\n",
    "## Ans- As we know that if  X ∼ N(µ1, σ1^2 ), and  Y ∼ N(µ2, σ2^2 ) are two independent  random variables then   X + Y ∼ N(µ1 + µ2, σ1^2 + σ2^2 ) , and      X − Y ∼ N(µ1 − µ2, σ1^2 + σ2^2 ) .\n",
    "## Similarly if  Z = aX + bY , where X and Y are as defined above, i.e Z is linear combination of X and Y , then Z ∼ N(aµ1 + bµ2, a^2σ1^2 + b^2σ2^2 ).\n",
    "## Therefore in the question \n",
    "## 2X1~ N(2 u,4 σ^2) and \n",
    "## X1+X2 ~  N(µ + µ, σ^2 + σ^2 ) ~ N(2 u, 2σ^2 )\n",
    "## 2X1-(X1+X2) = N( 4µ,6 σ^2)\n",
    "\n",
    "## 4. Let X ~ N(100, 202) , Find two values, a and b, symmetric about the mean, such that the probability of the random variable taking a value between them is 0.99.\n",
    "\n",
    "## Ans. Since we need to find out the values of a and b, which are symmetric about the mean, such that the probability of random variable taking a value between them is 0.99, we have to work out in reverse order. \n",
    "## The Probability of getting value between a and b should be 0.99.\n",
    "## So the Probability of going wrong, or the Probability outside the a and b area is 0.01 (ie. 1-0.99).\n",
    "## The Probability towards left from a = -0.005 (ie. 0.01/2). \n",
    "## The Probability towards right from b = +0.005 (ie. 0.01/2).\n",
    "## So since we have the probabilities of a and b, we need to calculate X, the random variable at a and b which has got these probabilities. \n",
    "## By finding the Standard Normal Variable Z (Z Value), we can calculate the X values.\n",
    "## Z=(X- μ) / σ \n",
    "## For Probability 0.005 the Z Value is -2.57 (from Z Table).\n",
    "## Z * σ + μ = X\n",
    "## Z(-0.005)*20+100 = -(-2.57)*20+100 = 151.4\n",
    "## Z(+0.005)*20+100 = (-2.57)*20+100 = 48.6\n",
    "## So, option D is correct."
   ]
  },
  {
   "cell_type": "markdown",
   "id": "db03b14c",
   "metadata": {},
   "source": [
    "## \n",
    "\n",
    "\n",
    "\n",
    "\n",
    "\n",
    "\n",
    "\n",
    "## Assignment-2-Set2-Q1 (Basic Statistic Level-2)"
   ]
  },
  {
   "cell_type": "code",
   "execution_count": 1,
   "id": "07b21186",
   "metadata": {},
   "outputs": [],
   "source": [
    "from scipy import stats\n",
    "from scipy.stats import norm"
   ]
  },
  {
   "cell_type": "code",
   "execution_count": 2,
   "id": "7fa7484c",
   "metadata": {},
   "outputs": [
    {
     "data": {
      "text/plain": [
       "0.625"
      ]
     },
     "execution_count": 2,
     "metadata": {},
     "output_type": "execute_result"
    }
   ],
   "source": [
    "# Find Z-Scores at X=50; Z = (X - µ) / σ \n",
    "Z=(50-45)/8\n",
    "Z"
   ]
  },
  {
   "cell_type": "code",
   "execution_count": 3,
   "id": "81d9123a",
   "metadata": {},
   "outputs": [
    {
     "data": {
      "text/plain": [
       "0.26598552904870054"
      ]
     },
     "execution_count": 3,
     "metadata": {},
     "output_type": "execute_result"
    }
   ],
   "source": [
    "# Find probability P(X>50) = 1-stats.norm.cdf(abs(z_score))\n",
    "1-stats.norm.cdf(abs(0.625))"
   ]
  },
  {
   "cell_type": "code",
   "execution_count": 4,
   "id": "4fd7b7f9",
   "metadata": {},
   "outputs": [
    {
     "data": {
      "text/plain": [
       "0.7340144709512995"
      ]
     },
     "execution_count": 4,
     "metadata": {},
     "output_type": "execute_result"
    }
   ],
   "source": [
    "# OR Find probability P(X<=50); p_value=stats.norm.cdf(abs(z_score))  \n",
    "p_value=stats.norm.cdf(abs(0.625)) \n",
    "p_value"
   ]
  },
  {
   "cell_type": "code",
   "execution_count": 5,
   "id": "2aa5bfaa",
   "metadata": {},
   "outputs": [
    {
     "data": {
      "text/plain": [
       "0.266"
      ]
     },
     "execution_count": 5,
     "metadata": {},
     "output_type": "execute_result"
    }
   ],
   "source": [
    "# P(X>50) = 1 - P(X<=50)\n",
    "1-0.734"
   ]
  },
  {
   "cell_type": "markdown",
   "id": "b9a18c93",
   "metadata": {},
   "source": [
    "## Q2"
   ]
  },
  {
   "cell_type": "code",
   "execution_count": 6,
   "id": "2626b792",
   "metadata": {},
   "outputs": [],
   "source": [
    "from scipy import stats\n",
    "from scipy.stats import norm"
   ]
  },
  {
   "cell_type": "code",
   "execution_count": 7,
   "id": "f12178a6",
   "metadata": {},
   "outputs": [],
   "source": [
    "# A. More employees at the processing center are older than 44 than between 38 and 44."
   ]
  },
  {
   "cell_type": "code",
   "execution_count": 8,
   "id": "a2f842c3",
   "metadata": {},
   "outputs": [
    {
     "data": {
      "text/plain": [
       "0.15865525393145707"
      ]
     },
     "execution_count": 8,
     "metadata": {},
     "output_type": "execute_result"
    }
   ],
   "source": [
    "# p(X>44); Employees older than 44 yrs of age\n",
    "1-stats.norm.cdf(44,loc=38,scale=6)"
   ]
  },
  {
   "cell_type": "code",
   "execution_count": 9,
   "id": "846b9858",
   "metadata": {},
   "outputs": [
    {
     "data": {
      "text/plain": [
       "0.3413447460685429"
      ]
     },
     "execution_count": 9,
     "metadata": {},
     "output_type": "execute_result"
    }
   ],
   "source": [
    "# p(38<X<44); Employees between 38 to 44 yrs of age\n",
    "stats.norm.cdf(44,38,6)-stats.norm.cdf(38,38,6)"
   ]
  },
  {
   "cell_type": "code",
   "execution_count": 10,
   "id": "81a2b9b2",
   "metadata": {},
   "outputs": [],
   "source": [
    "# B. A training program for employees under the age of 30 at the center would be expected to attract about 36 employees."
   ]
  },
  {
   "cell_type": "code",
   "execution_count": 11,
   "id": "527ddeaa",
   "metadata": {},
   "outputs": [
    {
     "data": {
      "text/plain": [
       "0.09121121972586788"
      ]
     },
     "execution_count": 11,
     "metadata": {},
     "output_type": "execute_result"
    }
   ],
   "source": [
    "# P(X<30); Employees under 30 yrs of age\n",
    "stats.norm.cdf(30,38,6)"
   ]
  },
  {
   "cell_type": "code",
   "execution_count": 12,
   "id": "9def2a2d",
   "metadata": {},
   "outputs": [
    {
     "data": {
      "text/plain": [
       "36.484487890347154"
      ]
     },
     "execution_count": 12,
     "metadata": {},
     "output_type": "execute_result"
    }
   ],
   "source": [
    "# No. of employees attending training program from 400 nos. is N*P(X<30)\n",
    "400*stats.norm.cdf(30,38,6)"
   ]
  },
  {
   "cell_type": "markdown",
   "id": "7b409312",
   "metadata": {},
   "source": [
    "## Q3"
   ]
  },
  {
   "cell_type": "code",
   "execution_count": null,
   "id": "c812669e",
   "metadata": {},
   "outputs": [],
   "source": []
  },
  {
   "cell_type": "code",
   "execution_count": null,
   "id": "b6ecfbb5",
   "metadata": {},
   "outputs": [],
   "source": []
  },
  {
   "cell_type": "markdown",
   "id": "35bbc7fd",
   "metadata": {},
   "source": [
    "## Q4"
   ]
  },
  {
   "cell_type": "code",
   "execution_count": 13,
   "id": "3e5c88cd",
   "metadata": {},
   "outputs": [],
   "source": [
    "from scipy import stats\n",
    "from scipy.stats import norm"
   ]
  },
  {
   "cell_type": "code",
   "execution_count": 14,
   "id": "2bd09868",
   "metadata": {},
   "outputs": [
    {
     "data": {
      "text/plain": [
       "(48.48341392902199, 151.516586070978)"
      ]
     },
     "execution_count": 14,
     "metadata": {},
     "output_type": "execute_result"
    }
   ],
   "source": [
    "stats.norm.interval(0.99,100,20)"
   ]
  },
  {
   "cell_type": "markdown",
   "id": "72380eb0",
   "metadata": {},
   "source": [
    "\n",
    "\n",
    "\n",
    "## Q5"
   ]
  },
  {
   "cell_type": "code",
   "execution_count": 15,
   "id": "c0c4104b",
   "metadata": {},
   "outputs": [],
   "source": [
    "import numpy as np\n",
    "from scipy import stats\n",
    "from scipy.stats import norm"
   ]
  },
  {
   "cell_type": "code",
   "execution_count": 16,
   "id": "7603a321",
   "metadata": {},
   "outputs": [
    {
     "name": "stdout",
     "output_type": "stream",
     "text": [
      "Mean Profit is Rs 540 Million\n"
     ]
    }
   ],
   "source": [
    "# Mean profits from two different divisions of a company = Mean1 + Mean2\n",
    "Mean = 5+7\n",
    "print('Mean Profit is Rs', Mean*45,'Million')"
   ]
  },
  {
   "cell_type": "code",
   "execution_count": 17,
   "id": "8954a8e6",
   "metadata": {},
   "outputs": [
    {
     "name": "stdout",
     "output_type": "stream",
     "text": [
      "Standard Deviation is Rs 225.0 Million\n"
     ]
    }
   ],
   "source": [
    "# Variance of profits from two different divisions of a company = SD^2 = SD1^2 + SD2^2\n",
    "SD = np.sqrt((9)+(16))\n",
    "print('Standard Deviation is Rs', SD*45, 'Million')"
   ]
  },
  {
   "cell_type": "code",
   "execution_count": 18,
   "id": "f700bf87",
   "metadata": {},
   "outputs": [
    {
     "name": "stdout",
     "output_type": "stream",
     "text": [
      "Range is Rs (99.00810347848784, 980.9918965215122) in Millions\n"
     ]
    }
   ],
   "source": [
    "# A. Specify a Rupee range (centered on the mean) such that it contains 95% probability for the annual profit of the company.\n",
    "print('Range is Rs',(stats.norm.interval(0.95,540,225)),'in Millions')"
   ]
  },
  {
   "cell_type": "code",
   "execution_count": 19,
   "id": "69005c63",
   "metadata": {},
   "outputs": [
    {
     "name": "stdout",
     "output_type": "stream",
     "text": [
      "5th percentile of profit (in Million Rupees) is 170.0\n"
     ]
    }
   ],
   "source": [
    "# B. Specify the 5th percentile of profit (in Rupees) for the company\n",
    "# To compute 5th Percentile, we use the formula X=μ + Zσ; wherein from z table, 5 percentile = -1.645\n",
    "X= 540+(-1.645)*(225)\n",
    "print('5th percentile of profit (in Million Rupees) is',np.round(X,))"
   ]
  },
  {
   "cell_type": "code",
   "execution_count": 20,
   "id": "896a686a",
   "metadata": {},
   "outputs": [],
   "source": [
    "# C. Which of the two divisions has a larger probability of making a loss in a given year?"
   ]
  },
  {
   "cell_type": "code",
   "execution_count": 21,
   "id": "cdac59ca",
   "metadata": {},
   "outputs": [
    {
     "data": {
      "text/plain": [
       "0.0477903522728147"
      ]
     },
     "execution_count": 21,
     "metadata": {},
     "output_type": "execute_result"
    }
   ],
   "source": [
    "# Probability of Division 1 making a loss P(X<0)\n",
    "stats.norm.cdf(0,5,3)"
   ]
  },
  {
   "cell_type": "code",
   "execution_count": 22,
   "id": "e84bdd63",
   "metadata": {},
   "outputs": [
    {
     "data": {
      "text/plain": [
       "0.040059156863817086"
      ]
     },
     "execution_count": 22,
     "metadata": {},
     "output_type": "execute_result"
    }
   ],
   "source": [
    "# Probability of Division 2 making a loss P(X<0)\n",
    "stats.norm.cdf(0,7,4)"
   ]
  },
  {
   "cell_type": "code",
   "execution_count": null,
   "id": "5fbe7852",
   "metadata": {},
   "outputs": [],
   "source": []
  }
 ],
 "metadata": {
  "kernelspec": {
   "display_name": "Python 3",
   "language": "python",
   "name": "python3"
  },
  "language_info": {
   "codemirror_mode": {
    "name": "ipython",
    "version": 3
   },
   "file_extension": ".py",
   "mimetype": "text/x-python",
   "name": "python",
   "nbconvert_exporter": "python",
   "pygments_lexer": "ipython3",
   "version": "3.8.8"
  }
 },
 "nbformat": 4,
 "nbformat_minor": 5
}
